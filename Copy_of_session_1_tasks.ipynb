{
  "nbformat": 4,
  "nbformat_minor": 0,
  "metadata": {
    "colab": {
      "provenance": [],
      "include_colab_link": true
    },
    "kernelspec": {
      "name": "python3",
      "display_name": "Python 3"
    },
    "language_info": {
      "name": "python"
    }
  },
  "cells": [
    {
      "cell_type": "markdown",
      "metadata": {
        "id": "view-in-github",
        "colab_type": "text"
      },
      "source": [
        "<a href=\"https://colab.research.google.com/github/SOUJU07/CampusX_Mentorship_Notebooks/blob/main/Copy_of_session_1_tasks.ipynb\" target=\"_parent\"><img src=\"https://colab.research.google.com/assets/colab-badge.svg\" alt=\"Open In Colab\"/></a>"
      ]
    },
    {
      "cell_type": "markdown",
      "source": [
        "# Task : Session 1\n",
        "Solve these questions own your own and try to test yourself what you have learned in the session.\n",
        "\n",
        "Happy Learning!"
      ],
      "metadata": {
        "id": "A05OG15VqOPF"
      }
    },
    {
      "cell_type": "markdown",
      "source": [
        "### Q1 :- Print the given strings as per stated format.\n",
        "\n",
        "**Given strings**: \n",
        "```\n",
        "\"Data\" \"Science\" \"Mentorship\" \"Program\" \n",
        "\"By\" \"CampusX\"\n",
        "```\n",
        "**Output**: \n",
        "``` \n",
        "Data-Science-Mentorship-Program-started-By-CampusX\n",
        "```\n",
        "\n",
        "Concept- [Seperator and End]"
      ],
      "metadata": {
        "id": "2doIXf8bqe9_"
      }
    },
    {
      "cell_type": "code",
      "source": [
        "# Write your code here\n",
        "print(\"Data\",\"Science\",\"Mentorship\",\"Program\",\"Started\",\"By\",\"CampusX\",sep='-')"
      ],
      "metadata": {
        "id": "-em6d3KErDtp",
        "colab": {
          "base_uri": "https://localhost:8080/"
        },
        "outputId": "3d2cdfa8-0361-4c84-ce33-099d7f3e1fcb"
      },
      "execution_count": null,
      "outputs": [
        {
          "output_type": "stream",
          "name": "stdout",
          "text": [
            "Data-Science-Mentorship-Program-Started-By-CampusX\n"
          ]
        }
      ]
    },
    {
      "cell_type": "code",
      "source": [],
      "metadata": {
        "colab": {
          "base_uri": "https://localhost:8080/"
        },
        "outputId": "b1eac5ce-3e59-4bb2-a630-8eb7e2dd932f",
        "id": "c6WDvDc4dUak"
      },
      "execution_count": null,
      "outputs": [
        {
          "output_type": "stream",
          "name": "stdout",
          "text": [
            "Data Science Mentorship Program Started By CampusX\n"
          ]
        }
      ]
    },
    {
      "cell_type": "markdown",
      "source": [
        "### Q2:- Write a program that will convert celsius value to fahrenheit."
      ],
      "metadata": {
        "id": "1KUpN7ZTrC3_"
      }
    },
    {
      "cell_type": "code",
      "source": [
        "# Write your code here\n",
        "cel=int(input('enter the celsius'))\n",
        "\n",
        "print(cel*(9/5)+32)"
      ],
      "metadata": {
        "id": "yxKYhYQiqWfj",
        "colab": {
          "base_uri": "https://localhost:8080/"
        },
        "outputId": "908f83cf-0ae9-4b59-f8ab-ce1436595520"
      },
      "execution_count": null,
      "outputs": [
        {
          "output_type": "stream",
          "name": "stdout",
          "text": [
            "enter the celsius32\n",
            "89.6\n"
          ]
        }
      ]
    },
    {
      "cell_type": "markdown",
      "source": [
        "### Q3:- Take 2 numbers as input from the user.Write a program to swap the numbers without using any special python syntax."
      ],
      "metadata": {
        "id": "RLrOBBJurLB2"
      }
    },
    {
      "cell_type": "code",
      "source": [
        "# Write your code here\n",
        "a=int(input('enter a number'))\n",
        "b=int(input('enter a second number'))\n",
        "\n",
        "print(a,b)\n",
        "temp=a\n",
        "a=b\n",
        "b=temp\n",
        "\n",
        "print(a,b)"
      ],
      "metadata": {
        "id": "yPn7if0TrJ4F",
        "colab": {
          "base_uri": "https://localhost:8080/"
        },
        "outputId": "0fb97123-0421-447f-b801-2a3717fec858"
      },
      "execution_count": null,
      "outputs": [
        {
          "output_type": "stream",
          "name": "stdout",
          "text": [
            "enter a number5\n",
            "enter a second number7\n",
            "5 7\n",
            "7 5\n"
          ]
        }
      ]
    },
    {
      "cell_type": "markdown",
      "source": [
        "### Q4:- Write a program to find the euclidean distance between two coordinates.Take both the coordinates from the user as input."
      ],
      "metadata": {
        "id": "waLCP1bjr7ML"
      }
    },
    {
      "cell_type": "code",
      "source": [
        "# Write your code here\n",
        "import math\n",
        "\n",
        "a=int(input('enter a number'))\n",
        "a2=int(input('enter a number'))\n",
        "b=int(input('enter a second number'))\n",
        "b2=int(input('enter a second number'))\n",
        "\n",
        "temp=(a2-a)**2 + (b2-b)**2\n",
        "d=math.sqrt(temp)\n",
        "print(d)"
      ],
      "metadata": {
        "id": "Pl1Sv-xnrxnH",
        "colab": {
          "base_uri": "https://localhost:8080/"
        },
        "outputId": "cf290b06-f781-44bf-f364-a1b31505c477"
      },
      "execution_count": null,
      "outputs": [
        {
          "output_type": "stream",
          "name": "stdout",
          "text": [
            "enter a number4\n",
            "enter a number2\n",
            "enter a second number4\n",
            "enter a second number2\n",
            "2.8284271247461903\n"
          ]
        }
      ]
    },
    {
      "cell_type": "markdown",
      "source": [
        "### Q5:- Write a program to find the simple interest when the value of principle,rate of interest and time period is provided by the user.\n"
      ],
      "metadata": {
        "id": "VLrhg-FRsHjR"
      }
    },
    {
      "cell_type": "code",
      "source": [
        "\n",
        "p=int(input('enter the principle'))\n",
        "r=int(input('enter the interest'))\n",
        "t=int(input('enter the time'))\n",
        "\n",
        "print((p*r*t)/100)"
      ],
      "metadata": {
        "id": "s40DlReZsTmY",
        "colab": {
          "base_uri": "https://localhost:8080/"
        },
        "outputId": "483b057d-9526-481e-9932-02cc91ecd5bc"
      },
      "execution_count": null,
      "outputs": [
        {
          "output_type": "stream",
          "name": "stdout",
          "text": [
            "enter the principle100\n",
            "enter the interest10\n",
            "enter the time10\n",
            "100.0\n"
          ]
        }
      ]
    },
    {
      "cell_type": "markdown",
      "source": [
        "### Q6:- Write a program that will tell the number of dogs and chicken are there when the user will provide the value of total heads and legs.\n",
        "\n",
        "For example:\n",
        "Input:\n",
        "heads -> 4\n",
        "legs -> 12\n",
        "<br>\n",
        "Output:\n",
        "dogs -> 2\n",
        "chicken -> 2\n",
        "\n",
        "\n",
        "\n"
      ],
      "metadata": {
        "id": "LMy0BTUktYKa"
      }
    },
    {
      "cell_type": "code",
      "source": [
        "# Write your code here\n",
        "x=int(input('enter number of legs'))\n",
        "y=int(input('enter number of heads'))\n",
        "#a be the dogs\n",
        "#b be the chicken\n",
        "# a+b=y\n",
        "# 4a+2b=x\n",
        "\n",
        "# 4a+2(y-a)=x\n",
        "# 4a+2y-2a=x\n",
        "\n",
        "# 2a+2y=x\n",
        "a=(x/2)-y\n",
        "b=y-a\n",
        "\n",
        "print(a,b)"
      ],
      "metadata": {
        "id": "XSBvJoA4tXaG",
        "colab": {
          "base_uri": "https://localhost:8080/"
        },
        "outputId": "d57e21d3-fb43-4d38-e880-8c5d8a0bc43c"
      },
      "execution_count": null,
      "outputs": [
        {
          "output_type": "stream",
          "name": "stdout",
          "text": [
            "enter number of legs300\n",
            "enter number of heads100\n",
            "50.0 50.0\n"
          ]
        }
      ]
    },
    {
      "cell_type": "markdown",
      "source": [
        "### Q7:- Write a program to find the sum of squares of first n natural numbers where n will be provided by the user."
      ],
      "metadata": {
        "id": "gJ7C5kZYt4BP"
      }
    },
    {
      "cell_type": "code",
      "source": [
        "# Write your code here\n",
        "\n",
        "n=int(input('enter a number'))\n",
        "\n",
        "print((n*(n+1)*(2*n+1))/6)\n",
        "\n"
      ],
      "metadata": {
        "id": "_tHsmEHzt2nX",
        "colab": {
          "base_uri": "https://localhost:8080/"
        },
        "outputId": "eefbdc26-d89a-4260-87ae-6850bc266097"
      },
      "execution_count": null,
      "outputs": [
        {
          "output_type": "stream",
          "name": "stdout",
          "text": [
            "enter a number20\n",
            "2870.0\n"
          ]
        }
      ]
    },
    {
      "cell_type": "markdown",
      "source": [
        "### Q8:- Given the first 2 terms of an Arithmetic Series.Find the Nth term of the series. Assume all inputs are provided by the user."
      ],
      "metadata": {
        "id": "FHrMM7g-yG1h"
      }
    },
    {
      "cell_type": "code",
      "source": [
        "# Write your code here\n",
        "a1=int(input('enter first term'))\n",
        "a2=int(input('enter second term'))\n",
        "\n",
        "d=a2-a1\n",
        "\n",
        "print(a1+(5-1)*d)"
      ],
      "metadata": {
        "id": "go4_kmZmyVSx",
        "colab": {
          "base_uri": "https://localhost:8080/"
        },
        "outputId": "2db37231-4735-409e-c55d-866a693c2b33"
      },
      "execution_count": null,
      "outputs": [
        {
          "output_type": "stream",
          "name": "stdout",
          "text": [
            "enter first term2\n",
            "enter second term3\n",
            "6\n"
          ]
        }
      ]
    },
    {
      "cell_type": "markdown",
      "source": [
        "### Q9:- Given 2 fractions, find the sum of those 2 fractions.Take the numerator and denominator values of the fractions from the user."
      ],
      "metadata": {
        "id": "QgyRX_es1oum"
      }
    },
    {
      "cell_type": "code",
      "source": [
        "# Write your code here\n",
        "\n",
        "a=int(input('enter the num1'))\n",
        "b=int(input('enter the den1'))\n",
        "a1=int(input('enter the num2'))\n",
        "b1=int(input('enter the den2'))\n",
        "\n",
        "nu1=a*b1 + a1*b\n",
        "de1=b1*b\n",
        "\n",
        "print('{}/{}'.format(nu1,de1))"
      ],
      "metadata": {
        "id": "X05xqFS1yW16",
        "colab": {
          "base_uri": "https://localhost:8080/"
        },
        "outputId": "5ce02d83-46d9-4922-959c-7da5f9a799f4"
      },
      "execution_count": 3,
      "outputs": [
        {
          "output_type": "stream",
          "name": "stdout",
          "text": [
            "enter the num113\n",
            "enter the den117\n",
            "enter the num222\n",
            "enter the den211\n",
            "517/187\n"
          ]
        }
      ]
    },
    {
      "cell_type": "code",
      "source": [
        "n1=int(input('enter the num1'))\n",
        "d1=int(input('enter the den1'))\n",
        "n2=int(input('enter the num2'))\n",
        "d2=int(input('enter the den2'))\n",
        "\n",
        "nu1=n1*d2 + n2*d1\n",
        "de1= d1*d2\n",
        "\n",
        "\n",
        "print('{}/{}'.format(nu1,de1))"
      ],
      "metadata": {
        "colab": {
          "base_uri": "https://localhost:8080/"
        },
        "id": "QmS-K8XiNAtB",
        "outputId": "7915f907-f297-4da9-a003-d2a12f4d755d"
      },
      "execution_count": 4,
      "outputs": [
        {
          "output_type": "stream",
          "name": "stdout",
          "text": [
            "enter the num113\n",
            "enter the den117\n",
            "enter the num222\n",
            "enter the den211\n",
            "517/187\n"
          ]
        }
      ]
    },
    {
      "cell_type": "markdown",
      "source": [
        "### Q10:- Given the height, width and breadth of a milk tank, you have to find out how many glasses of milk can be obtained? Assume all the inputs are provided by the user.\n",
        "\n",
        "\n",
        "\n",
        "Input:<br>\n",
        "Dimensions of the milk tank<br>\n",
        "H = 20cm, L = 20cm, B = 20cm\n",
        "<br><br>\n",
        "Dimensions of the glass<br>\n",
        "h = 3cm, r = 1cm"
      ],
      "metadata": {
        "id": "eaql38ln13u7"
      }
    },
    {
      "cell_type": "code",
      "source": [
        "# Write your code here\n",
        "\n",
        "H=int(input('enter the height of tank'))\n",
        "L=int(input('enter the length of tank'))\n",
        "B=int(input('enter the breadth of tank'))\n",
        "\n",
        "Vol=H*L*b\n",
        "\n",
        "h=int(input('enter the height of glass'))\n",
        "r=int(input('enter the radius of glass'))\n",
        "\n",
        "vol=3.14*(r**2)*h\n",
        "\n",
        "print(Vol)\n",
        "print(vol)\n",
        "print(Vol/vol)"
      ],
      "metadata": {
        "id": "FePZqno74eWv",
        "colab": {
          "base_uri": "https://localhost:8080/"
        },
        "outputId": "6452acba-1abf-43c3-8bdb-aea0c3f495de"
      },
      "execution_count": 7,
      "outputs": [
        {
          "output_type": "stream",
          "name": "stdout",
          "text": [
            "enter the height of tank20\n",
            "enter the length of tank20\n",
            "enter the breadth of tank20\n",
            "enter the height of glass3\n",
            "enter the radius of glass1\n",
            "6800\n",
            "9.42\n",
            "721.8683651804671\n"
          ]
        }
      ]
    },
    {
      "cell_type": "code",
      "source": [],
      "metadata": {
        "id": "Av5izXojQRT1"
      },
      "execution_count": null,
      "outputs": []
    }
  ]
}